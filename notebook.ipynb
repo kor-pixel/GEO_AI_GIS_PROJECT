{
 "cells": [
  {
   "cell_type": "markdown",
   "metadata": {},
   "source": [
    "GEOAI: Stationary Wide Grid Drone Comms + Roadmap Pipeline<br>\n",
    "This script loads OSM data, prepares a free-space roadmap<br>\n",
    "(nodes/edges not inside buildings), places a wide stationary<br>\n",
    "grid of drone positions, builds a line-of-sight communication<br>\n",
    "graph, and exports layers to GeoJSON / GeoPackage.<br>\n",
    "<br>\n",
    "It is formatted in clear \"paragraphs\" with comment blocks so<br>\n",
    "that p2j can convert it directly to a Jupyter Notebook where<br>\n",
    "comments become markdown cells and contiguous code stays<br>\n",
    "together. No functionality has been changed.<br>\n"
   ]
  },
  {
   "cell_type": "markdown",
   "metadata": {},
   "source": [
    "IMPORTS \n",
    "Standard library"
   ]
  },
  {
   "cell_type": "code",
   "execution_count": 1,
   "metadata": {},
   "outputs": [],
   "source": [
    "#!/usr/bin/env python3\n",
    "# -*- coding: utf-8 -*-\n",
    "\n",
    "import os\n",
    "import math\n",
    "import json\n",
    "from dataclasses import dataclass\n",
    "from typing import List, Dict, Tuple, Optional\n",
    "import argparse\n",
    "import re"
   ]
  },
  {
   "cell_type": "markdown",
   "metadata": {},
   "source": [
    "Third-party scientific stack"
   ]
  },
  {
   "cell_type": "code",
   "execution_count": 2,
   "metadata": {},
   "outputs": [],
   "source": [
    "import numpy as np\n",
    "import pandas as pd\n",
    "import networkx as nx\n",
    "import matplotlib.pyplot as plt"
   ]
  },
  {
   "cell_type": "markdown",
   "metadata": {},
   "source": [
    "Geospatial stack"
   ]
  },
  {
   "cell_type": "code",
   "execution_count": 3,
   "metadata": {},
   "outputs": [],
   "source": [
    "import geopandas as gpd\n",
    "from shapely.geometry import LineString, Point, Polygon, mapping\n",
    "from shapely.ops import linemerge, unary_union\n",
    "from shapely.strtree import STRtree"
   ]
  },
  {
   "cell_type": "markdown",
   "metadata": {},
   "source": [
    "Optional: OSMnx and Pyrosm (we use OSMnx here)"
   ]
  },
  {
   "cell_type": "code",
   "execution_count": 4,
   "metadata": {},
   "outputs": [],
   "source": [
    "import osmnx as ox\n",
    "from pyrosm import OSM"
   ]
  },
  {
   "cell_type": "markdown",
   "metadata": {},
   "source": [
    "CONFIG br>\n",
    "Paths and CRS"
   ]
  },
  {
   "cell_type": "code",
   "execution_count": 5,
   "metadata": {},
   "outputs": [],
   "source": [
    "OSM_PATH = \"map.osm\"          # <-- put your .osm filename here\n",
    "OUT_DIR = \"out\"\n",
    "PLOTS_DIR = os.path.join(OUT_DIR, \"plots\")\n",
    "CRS_METRIC = \"EPSG:5186\"      # Korea Transverse Mercator (meters). Change if needed."
   ]
  },
  {
   "cell_type": "markdown",
   "metadata": {},
   "source": [
    "Simulation / model parameters"
   ]
  },
  {
   "cell_type": "code",
   "execution_count": 6,
   "metadata": {},
   "outputs": [],
   "source": [
    "ALTITUDE_M = 20.0             # fixed altitude for all drones (m)\n",
    "COMM_RANGE_M = 300.0          # max comms link distance (m)\n",
    "SAMPLE_EVERY_M = 25.0         # roadmap sampling interval along streets (m)\n",
    "RANDOM_SEED = 42"
   ]
  },
  {
   "cell_type": "markdown",
   "metadata": {},
   "source": [
    "Formation (GRID, stationary + auto-wide)"
   ]
  },
  {
   "cell_type": "code",
   "execution_count": 7,
   "metadata": {},
   "outputs": [],
   "source": [
    "GRID_ROWS = 4\n",
    "GRID_COLS = 5                 # 4×5 => 20 drones\n",
    "AUTO_WIDE_GRID = True         # auto-fit grid to the map extent\n",
    "ENSURE_MULTIHOP = True        # adapt spacing so farthest pair has a multi-hop path\n",
    "MULTIHOP_MAX_ITERS = 12       # attempts to tweak spacing/center\n",
    "SPACING_SHRINK = 0.9          # shrink factor when searching multihop feasibility\n",
    "CENTER_JITTER_M = 0.0         # >0 to try nudging the grid center (optional)\n",
    "GRID_COVERAGE = 0.9           # portion of bbox spanned by the grid (0–1)\n",
    "MIN_GRID_SPACING_M = 60.0     # lower bound so it gets WIDE even on small maps\n",
    "STRETCH_ASPECT = True         # anisotropic spacing so it truly fills bbox\n",
    "GRID_SPACING_M = 50.0         # used only if AUTO_WIDE_GRID = False\n",
    "GRID_CENTER_XY: Optional[Tuple[float, float]] = None  # None => use bbox centroid"
   ]
  },
  {
   "cell_type": "markdown",
   "metadata": {},
   "source": [
    "SETUP br>\n",
    "Create output folders up-front so later exports succeed."
   ]
  },
  {
   "cell_type": "code",
   "execution_count": 8,
   "metadata": {},
   "outputs": [],
   "source": [
    "def ensure_dirs():\n",
    "    os.makedirs(OUT_DIR, exist_ok=True)\n",
    "    os.makedirs(PLOTS_DIR, exist_ok=True)"
   ]
  },
  {
   "cell_type": "markdown",
   "metadata": {},
   "source": [
    "DATA LOADING (OSM)<br>\n",
    "Load buildings and roads from an .osm XML file and project to metric CRS."
   ]
  },
  {
   "cell_type": "code",
   "execution_count": 9,
   "metadata": {},
   "outputs": [],
   "source": [
    "def load_osm_layers(osm_path: str, crs_metric: str) -> Tuple[gpd.GeoDataFrame, gpd.GeoDataFrame]:\n",
    "    \"\"\"Return (buildings_gdf, roads_gdf) in metric CRS from a .osm file.\"\"\"\n",
    "    ext = os.path.splitext(osm_path)[1].lower()\n",
    "\n",
    "    # We currently support .osm only for this pipeline\n",
    "    if ext in {\".osm\"}:\n",
    "        # Buildings\n",
    "        buildings = ox.features_from_xml(osm_path, tags={\"building\": True})\n",
    "        if buildings is None or len(buildings) == 0:\n",
    "            raise ValueError(\"No buildings found in OSM.\")\n",
    "        buildings = buildings[~buildings.geometry.is_empty].copy().to_crs(crs_metric)\n",
    "\n",
    "        # Roads (edges from a graph if possible; otherwise highway features)\n",
    "        try:\n",
    "            G = ox.graph_from_xml(osm_path, simplify=True)\n",
    "            edges = ox.graph_to_gdfs(G, nodes=False, edges=True)\n",
    "            edges = edges[~edges.geometry.is_empty].copy().to_crs(crs_metric)\n",
    "        except Exception:\n",
    "            edges = ox.features_from_xml(osm_path, tags={\"highway\": True})\n",
    "            edges = edges[edges.geometry.type.isin([\"LineString\", \"MultiLineString\"])].copy().to_crs(crs_metric)\n",
    "        roads = gpd.GeoDataFrame(edges[[\"geometry\"]].copy(), geometry=\"geometry\", crs=edges.crs)\n",
    "        return buildings.set_geometry(\"geometry\"), roads\n",
    "\n",
    "    # Unsupported format\n",
    "    else:\n",
    "        raise ValueError(f\"Unsupported file extension: {ext}. Use .osm\")"
   ]
  },
  {
   "cell_type": "markdown",
   "metadata": {},
   "source": [
    "Try to load a routable OSMnx graph (projected to CRS_METRIC) for road shortest paths."
   ]
  },
  {
   "cell_type": "code",
   "execution_count": 10,
   "metadata": {},
   "outputs": [],
   "source": [
    "def try_load_osmnx_graph(osm_path: str):\n",
    "    ext = os.path.splitext(osm_path)[1].lower()\n",
    "    if ext not in {\".osm\"}:\n",
    "        return None\n",
    "    try:\n",
    "        G_ll = ox.graph_from_xml(osm_path, simplify=True)\n",
    "        G_m = ox.projection.project_graph(G_ll, to_crs=CRS_METRIC)\n",
    "        return G_m\n",
    "    except Exception:\n",
    "        return None"
   ]
  },
  {
   "cell_type": "markdown",
   "metadata": {},
   "source": [
    "PREPARATION: HEIGHTS<br>\n",
    "Constants and keys used to extract/estimate building heights."
   ]
  },
  {
   "cell_type": "code",
   "execution_count": 11,
   "metadata": {},
   "outputs": [],
   "source": [
    "M_PER_FT = 0.3048\n",
    "HEIGHT_KEYS = [\"height\", \"height:mean\", \"building:height\", \"height_m\"]\n",
    "LEVEL_KEYS = [\"building:levels\", \"levels\"]  # OSM often uses \"building:levels\""
   ]
  },
  {
   "cell_type": "markdown",
   "metadata": {},
   "source": [
    "Parse a variety of height representations and return meters (float or None)."
   ]
  },
  {
   "cell_type": "code",
   "execution_count": 12,
   "metadata": {},
   "outputs": [],
   "source": [
    "def _parse_height_m(val) -> Optional[float]:\n",
    "    if val is None or (isinstance(val, float) and math.isnan(val)):\n",
    "        return None\n",
    "    s = str(val).strip().lower().replace(\",\", \"\")\n",
    "    if s in (\"\", \"nan\", \"none\", \"null\"):\n",
    "        return None\n",
    "\n",
    "    # feet-inches like 10'6\" or 10 ft 6 in\n",
    "    m = re.fullmatch(r\"\\s*(\\d+(?:\\.\\d+)?)\\s*'\\s*(\\d+(?:\\.\\d+)?)\\s*\\\"?\\s*\", s)\n",
    "    if m:\n",
    "        ft = float(m.group(1))\n",
    "        inch = float(m.group(2))\n",
    "        return (ft + inch / 12.0) * M_PER_FT\n",
    "\n",
    "    # pure feet like \"10ft\" or trailing \"'\"\n",
    "    if \"ft\" in s or s.endswith(\"'\"):\n",
    "        num = re.findall(r\"[-+]?\\d+(?:\\.\\d+)?\", s)\n",
    "        if num:\n",
    "            return float(num[0]) * M_PER_FT\n",
    "\n",
    "    # default to meters: use first number (handles \"10-12 m\")\n",
    "    nums = re.findall(r\"[-+]?\\d+(?:\\.\\d+)?\", s)\n",
    "    if nums:\n",
    "        return float(nums[0])\n",
    "    return None"
   ]
  },
  {
   "cell_type": "markdown",
   "metadata": {},
   "source": [
    "Estimate height: prefer explicit height, else levels*3.3m, else robust fallback."
   ]
  },
  {
   "cell_type": "code",
   "execution_count": 13,
   "metadata": {},
   "outputs": [],
   "source": [
    "def estimate_height_m(row) -> float:\n",
    "    height_levels = 100.0  # final fallback height in meters\n",
    "\n",
    "    # 1) explicit height in meters/feet\n",
    "    for key in HEIGHT_KEYS:\n",
    "        if key in row:\n",
    "            h = row.get(key)\n",
    "            hm = _parse_height_m(h)\n",
    "            if hm is not None and np.isfinite(hm) and hm > 0:\n",
    "                return float(hm)\n",
    "\n",
    "    # 2) fallback to levels × storey height\n",
    "    for key in LEVEL_KEYS:\n",
    "        if key in row:\n",
    "            v = row.get(key)\n",
    "            try:\n",
    "                if v is not None and not pd.isna(v):\n",
    "                    levels = float(str(v).strip())\n",
    "                    if levels > 0:\n",
    "                        height_levels = 3.3 * levels\n",
    "                        print(height_levels)\n",
    "                        return float(height_levels)\n",
    "            except Exception:\n",
    "                pass\n",
    "\n",
    "    # 3) final fallback\n",
    "    return height_levels"
   ]
  },
  {
   "cell_type": "markdown",
   "metadata": {},
   "source": [
    "Prepare buildings: compute estimated height, select occluders, and build spatial index."
   ]
  },
  {
   "cell_type": "code",
   "execution_count": 14,
   "metadata": {},
   "outputs": [],
   "source": [
    "def prepare_buildings(buildings: gpd.GeoDataFrame, altitude_m: float) -> Tuple[gpd.GeoDataFrame, gpd.GeoSeries, STRtree]:\n",
    "    b = buildings.copy()\n",
    "    b[\"h_m\"] = b.apply(estimate_height_m, axis=1)\n",
    "    occluders = b[b[\"h_m\"] >= altitude_m].geometry\n",
    "    tree = STRtree(list(occluders.values))\n",
    "    return b, occluders, tree"
   ]
  },
  {
   "cell_type": "markdown",
   "metadata": {},
   "source": [
    "ROADMAP CONVERSION <br>\n",
    "Convert raw roads to centerlines"
   ]
  },
  {
   "cell_type": "code",
   "execution_count": 15,
   "metadata": {},
   "outputs": [],
   "source": [
    "def roads_to_centerlines(roads: gpd.GeoDataFrame) -> gpd.GeoSeries:\n",
    "    merged = linemerge(unary_union(roads.geometry))\n",
    "    if isinstance(merged, LineString):\n",
    "        return gpd.GeoSeries([merged], crs=roads.crs)\n",
    "    elif hasattr(merged, \"geoms\"):\n",
    "        return gpd.GeoSeries(list(merged.geoms), crs=roads.crs)\n",
    "    else:\n",
    "        return gpd.GeoSeries([], crs=roads.crs)"
   ]
  },
  {
   "cell_type": "markdown",
   "metadata": {},
   "source": [
    "Sample points along centerlines every N meters."
   ]
  },
  {
   "cell_type": "code",
   "execution_count": 16,
   "metadata": {},
   "outputs": [],
   "source": [
    "def sample_lines(lines: gpd.GeoSeries, every_m: float) -> gpd.GeoDataFrame:\n",
    "    pts = []\n",
    "    for ln in lines:\n",
    "        if ln.length < 1.0:\n",
    "            continue\n",
    "        d = 0.0\n",
    "        while d <= ln.length:\n",
    "            pts.append(Point(ln.interpolate(d)))\n",
    "            d += every_m\n",
    "    gdf = gpd.GeoDataFrame(geometry=pts, crs=lines.crs)\n",
    "    gdf[\"x\"], gdf[\"y\"] = gdf.geometry.x, gdf.geometry.y\n",
    "    return gdf"
   ]
  },
  {
   "cell_type": "markdown",
   "metadata": {},
   "source": [
    "Build a k-NN roadmap graph from sampled points."
   ]
  },
  {
   "cell_type": "code",
   "execution_count": 17,
   "metadata": {},
   "outputs": [],
   "source": [
    "def build_roadmap(points: gpd.GeoDataFrame, k_nn: int = 6) -> nx.Graph:\n",
    "    from sklearn.neighbors import NearestNeighbors\n",
    "    coords = np.vstack([points[\"x\"].values, points[\"y\"].values]).T\n",
    "    nbrs = NearestNeighbors(n_neighbors=min(k_nn, len(points)), algorithm=\"ball_tree\").fit(coords)\n",
    "    distances, indices = nbrs.kneighbors(coords)\n",
    "    G = nx.Graph()\n",
    "    for i, (x, y) in enumerate(coords):\n",
    "        G.add_node(i, x=float(x), y=float(y))\n",
    "    for i, row in enumerate(indices):\n",
    "        for j_idx, j in enumerate(row):\n",
    "            if j == i:\n",
    "                continue\n",
    "            d = float(distances[i][j_idx])\n",
    "            G.add_edge(i, j, weight=d)\n",
    "    return G"
   ]
  },
  {
   "cell_type": "markdown",
   "metadata": {},
   "source": [
    "PRUNING non viable nodes<br>\n",
    "Remove drone nodes over tall buildings (>= altitude) and any other nodes inside buildings."
   ]
  },
  {
   "cell_type": "code",
   "execution_count": 18,
   "metadata": {},
   "outputs": [],
   "source": [
    "def prune_nodes_over_tall_buildings(G: nx.Graph, points: gpd.GeoDataFrame, buildings: gpd.GeoDataFrame, altitude_m: float) -> nx.Graph:\n",
    "    tall = buildings[buildings[\"h_m\"] >= altitude_m]\n",
    "    if len(tall) == 0:\n",
    "        return G\n",
    "    tall_union = unary_union(tall.geometry)\n",
    "    to_remove = []\n",
    "    for n, data in G.nodes(data=True):\n",
    "        p = Point(data[\"x\"], data[\"y\"])\n",
    "        if tall_union.contains(p):\n",
    "            to_remove.append(n)\n",
    "    G.remove_nodes_from(to_remove)\n",
    "    return G"
   ]
  },
  {
   "cell_type": "code",
   "execution_count": 19,
   "metadata": {},
   "outputs": [],
   "source": [
    "def prune_nodes_over_any_buildings(G: nx.Graph, buildings_all: gpd.GeoDataFrame) -> nx.Graph:\n",
    "    if len(buildings_all) == 0:\n",
    "        return G\n",
    "    uni = unary_union(buildings_all.geometry)\n",
    "    to_remove = []\n",
    "    for n, d in G.nodes(data=True):\n",
    "        if uni.contains(Point(d[\"x\"], d[\"y\"])):\n",
    "            to_remove.append(n)\n",
    "    G.remove_nodes_from(to_remove)\n",
    "    return G"
   ]
  },
  {
   "cell_type": "markdown",
   "metadata": {},
   "source": [
    "Remove roadmap edges that cross any building polygon (ensures routes avoid buildings)."
   ]
  },
  {
   "cell_type": "code",
   "execution_count": 20,
   "metadata": {},
   "outputs": [],
   "source": [
    "def prune_edges_crossing_buildings(G, buildings_all):\n",
    "    \"\"\"\n",
    "    Remove roadmap edges that cross (or run through) any building polygon.\n",
    "    Works with Shapely 1.x (returns geometries) and 2.x (returns indices).\n",
    "    \"\"\"\n",
    "    if len(buildings_all) == 0:\n",
    "        return G\n",
    "\n",
    "    # Keep a list in the same positional order used to build the tree\n",
    "    b_geoms = [g for g in buildings_all.geometry.values if g is not None and not g.is_empty]\n",
    "    if not b_geoms:\n",
    "        return G\n",
    "    tree = STRtree(b_geoms)\n",
    "    to_remove = []\n",
    "    for u, v in list(G.edges()):\n",
    "        p1 = Point(G.nodes[u][\"x\"], G.nodes[u][\"y\"])\n",
    "        p2 = Point(G.nodes[v][\"x\"], G.nodes[v][\"y\"])\n",
    "        seg = LineString([p1, p2])\n",
    "\n",
    "        # Narrow candidates with a cheap bbox hit\n",
    "        cand = tree.query(seg)\n",
    "\n",
    "        # Normalize candidates to actual polygon geometries\n",
    "        if len(cand) == 0:\n",
    "            continue\n",
    "        if isinstance(cand[0], (int, np.integer)):\n",
    "            polys = [b_geoms[i] for i in np.asarray(cand).tolist()]\n",
    "        else:\n",
    "            polys = cand\n",
    "\n",
    "        # Block if segment truly penetrates a polygon (touch-only is OK)\n",
    "        hit = False\n",
    "        for poly in polys:\n",
    "            if seg.crosses(poly) or seg.within(poly) or (seg.intersects(poly) and not seg.touches(poly)):\n",
    "                hit = True\n",
    "                break\n",
    "        if hit:\n",
    "            to_remove.append((u, v))\n",
    "    G.remove_edges_from(to_remove)\n",
    "    return G"
   ]
  },
  {
   "cell_type": "markdown",
   "metadata": {},
   "source": [
    "COMMS (LOS + GRAPH) <br>\n",
    "Fast LOS (Line of Sight) check against occluding buildings using STRtree (Sort-Tile-Recursive Tree) Engine is an GeoSpatial index engine that uses bottom-up way to build an R tree for two-dimensional points"
   ]
  },
  {
   "cell_type": "code",
   "execution_count": 21,
   "metadata": {},
   "outputs": [],
   "source": [
    "def los_ok(pxy, qxy, occluder_tree, occluders_gs):\n",
    "    seg = LineString([pxy, qxy])\n",
    "    cand = occluder_tree.query(seg)  # optional: predicate=\"intersects\"\n",
    "    if len(cand) == 0:\n",
    "        return True\n",
    "\n",
    "    # Build the list used to create the tree, in positional order\n",
    "    occ_geoms = [g for g in occluders_gs.values if g is not None and not g.is_empty]\n",
    "\n",
    "    # Map indices -> geometries for Shapely 2.x; pass-through for 1.x\n",
    "    try:\n",
    "        first = cand[0]\n",
    "    except Exception:\n",
    "        return True\n",
    "    if isinstance(first, (int, np.integer)):\n",
    "        polys = [occ_geoms[i] for i in np.asarray(cand).tolist()]\n",
    "    else:\n",
    "        polys = cand\n",
    "    for poly in polys:\n",
    "        if seg.crosses(poly) or seg.within(poly) or seg.touches(poly):\n",
    "            return False\n",
    "    return True"
   ]
  },
  {
   "cell_type": "markdown",
   "metadata": {},
   "source": [
    "Build communication graph from drone positions with range + LOS constraints."
   ]
  },
  {
   "cell_type": "code",
   "execution_count": 22,
   "metadata": {},
   "outputs": [],
   "source": [
    "def comm_graph_from_positions(positions_xy: List[Tuple[float, float]], occluder_tree: STRtree, occluders: gpd.GeoSeries, R: float) -> nx.Graph:\n",
    "    Gc = nx.Graph()\n",
    "    n = len(positions_xy)\n",
    "    Gc.add_nodes_from(range(n))\n",
    "    for i in range(n):\n",
    "        xi, yi = positions_xy[i]\n",
    "        for j in range(i + 1, n):\n",
    "            xj, yj = positions_xy[j]\n",
    "            if math.hypot(xi - xj, yi - yj) <= R and los_ok((xi, yi), (xj, yj), occluder_tree, occluders):\n",
    "                Gc.add_edge(i, j)\n",
    "    return Gc"
   ]
  },
  {
   "cell_type": "markdown",
   "metadata": {},
   "source": [
    "GRID PLACEMENT<br>\n",
    "Utility: bbox and center of a roadmap graph."
   ]
  },
  {
   "cell_type": "code",
   "execution_count": 23,
   "metadata": {},
   "outputs": [],
   "source": [
    "def bbox_and_center_from_graph(G: nx.Graph) -> Tuple[Tuple[float, float, float, float], Tuple[float, float]]:\n",
    "    xs = [d[\"x\"] for _, d in G.nodes(data=True)]\n",
    "    ys = [d[\"y\"] for _, d in G.nodes(data=True)]\n",
    "    xmin, xmax = float(np.min(xs)), float(np.max(xs))\n",
    "    ymin, ymax = float(np.min(ys)), float(np.max(ys))\n",
    "    cx, cy = (xmin + xmax) / 2.0, (ymin + ymax) / 2.0\n",
    "    return (xmin, ymin, xmax, ymax), (cx, cy)"
   ]
  },
  {
   "cell_type": "markdown",
   "metadata": {},
   "source": [
    "Compute grid spacing (possibly anisotropic) from bbox and coverage target."
   ]
  },
  {
   "cell_type": "code",
   "execution_count": 24,
   "metadata": {},
   "outputs": [],
   "source": [
    "def compute_grid_spacing(xmin, ymin, xmax, ymax, rows, cols, coverage, min_spacing, stretch):\n",
    "    W = max(xmax - xmin, 1.0)\n",
    "    H = max(ymax - ymin, 1.0)\n",
    "    sx = max(min_spacing, coverage * W / max(cols - 1, 1))\n",
    "    sy = max(min_spacing, coverage * H / max(rows - 1, 1))\n",
    "    if stretch:\n",
    "        return sx, sy\n",
    "    return min(sx, sy), min(sx, sy)"
   ]
  },
  {
   "cell_type": "markdown",
   "metadata": {},
   "source": [
    "Build grid points around a center with given spacing (row-major)."
   ]
  },
  {
   "cell_type": "code",
   "execution_count": 25,
   "metadata": {},
   "outputs": [],
   "source": [
    "def make_grid_points(center_xy: Tuple[float, float], rows: int, cols: int, spacing_x: float, spacing_y: float) -> List[Tuple[float, float]]:\n",
    "    cx, cy = center_xy\n",
    "    pts = []\n",
    "    for r in range(rows):\n",
    "        for c in range(cols):\n",
    "            x = cx + (c - (cols - 1) / 2.0) * spacing_x\n",
    "            y = cy + ((rows - 1) / 2.0 - r) * spacing_y\n",
    "            pts.append((x, y))\n",
    "    return pts"
   ]
  },
  {
   "cell_type": "markdown",
   "metadata": {},
   "source": [
    "Snap targets to unique roadmap nodes while avoiding buildings."
   ]
  },
  {
   "cell_type": "code",
   "execution_count": 26,
   "metadata": {},
   "outputs": [],
   "source": [
    "def snap_unique_nodes_free(G: nx.Graph, targets_xy: List[Tuple[float, float]], buildings_all: gpd.GeoDataFrame) -> List[int]:\n",
    "    node_ids = list(G.nodes())\n",
    "    coords = np.array([(G.nodes[n][\"x\"], G.nodes[n][\"y\"]) for n in node_ids])\n",
    "    forbidden = unary_union(buildings_all.geometry) if len(buildings_all) > 0 else None\n",
    "    taken = set()\n",
    "    chosen = []\n",
    "    for tx, ty in targets_xy:\n",
    "        d2 = np.sum((coords - np.array([tx, ty])) ** 2, axis=1)\n",
    "        order = np.argsort(d2)\n",
    "        pick = None\n",
    "\n",
    "        # Prefer nearest free + unused\n",
    "        for idx in order:\n",
    "            cand = node_ids[idx]\n",
    "            if cand in taken:\n",
    "                continue\n",
    "            if forbidden is not None and forbidden.contains(Point(G.nodes[cand][\"x\"], G.nodes[cand][\"y\"])):\n",
    "                continue\n",
    "            pick = cand\n",
    "            taken.add(cand)\n",
    "            break\n",
    "\n",
    "        # If none free, take nearest unused even if inside polygon\n",
    "        if pick is None:\n",
    "            for idx in order:\n",
    "                cand = node_ids[idx]\n",
    "                if forbidden is None or not forbidden.contains(Point(G.nodes[cand][\"x\"], G.nodes[cand][\"y\"])):\n",
    "                    pick = cand\n",
    "                    break\n",
    "        chosen.append(pick)\n",
    "    return chosen"
   ]
  },
  {
   "cell_type": "markdown",
   "metadata": {},
   "source": [
    "Iteratively adjust spacing (and optionally center) so the farthest pair has a multi-hop path."
   ]
  },
  {
   "cell_type": "code",
   "execution_count": 27,
   "metadata": {},
   "outputs": [],
   "source": [
    "def try_build_multihop_grid(\n",
    "    G_space: nx.Graph,\n",
    "    buildings: gpd.GeoDataFrame,\n",
    "    occluder_tree: STRtree,\n",
    "    occluders: gpd.GeoSeries,\n",
    "    comm_R: float,\n",
    "    rows: int,\n",
    "    cols: int,\n",
    "    base_center: Tuple[float, float],\n",
    "    sx_init: float,\n",
    "    sy_init: float,\n",
    "    max_iters: int = MULTIHOP_MAX_ITERS,\n",
    "    shrink: float = SPACING_SHRINK,\n",
    "    jitter: float = CENTER_JITTER_M\n",
    ") -> Tuple[List[Tuple[float, float]], List[int], float, float, Tuple[float, float], nx.Graph, List[int]]:\n",
    "    \"\"\"\n",
    "    Returns (drones_xy, start_nodes, sx, sy, center, Gc, comm_path_nodes).\n",
    "    \"\"\"\n",
    "    rng = np.random.default_rng(RANDOM_SEED)\n",
    "    sx, sy = sx_init, sy_init\n",
    "    center = base_center\n",
    "    for it in range(max_iters):\n",
    "        # Optionally jitter the center to escape occlusions\n",
    "        if jitter > 0:\n",
    "            cx, cy = base_center\n",
    "            jx = rng.uniform(-jitter, jitter)\n",
    "            jy = rng.uniform(-jitter, jitter)\n",
    "            center = (cx + jx, cy + jy)\n",
    "\n",
    "        # Build grid and snap to roadmap\n",
    "        targets_xy = make_grid_points(center, rows, cols, sx, sy)\n",
    "        start_nodes = snap_unique_nodes_free(G_space, targets_xy, buildings)\n",
    "        drones_xy = [(G_space.nodes[n][\"x\"], G_space.nodes[n][\"y\"]) for n in start_nodes]\n",
    "\n",
    "        # Communication graph\n",
    "        Gc = comm_graph_from_positions(drones_xy, occluder_tree, occluders, comm_R)\n",
    "\n",
    "        # Identify farthest pair of drones by Euclidean distance\n",
    "        far_i = far_j = -1\n",
    "        far_dist = -1.0\n",
    "        for i in range(len(drones_xy)):\n",
    "            xi, yi = drones_xy[i]\n",
    "            for j in range(i + 1, len(drones_xy)):\n",
    "                xj, yj = drones_xy[j]\n",
    "                d = math.hypot(xi - xj, yi - yj)\n",
    "                if d > far_dist:\n",
    "                    far_i, far_j, far_dist = i, j, d\n",
    "\n",
    "        # If the farthest pair is directly connected, expand spacing a touch to force multi-hop\n",
    "        if Gc.has_edge(far_i, far_j):\n",
    "            sx *= 1.05\n",
    "            sy *= 1.05\n",
    "            # Keep neighbors within R to preserve local connectivity\n",
    "            sx = min(sx, comm_R * 0.95)\n",
    "            sy = min(sy, comm_R * 0.95)\n",
    "            continue\n",
    "\n",
    "        # Success if there's a multi-hop path\n",
    "        if nx.has_path(Gc, far_i, far_j):\n",
    "            comm_path_nodes = nx.shortest_path(Gc, far_i, far_j)\n",
    "            return drones_xy, start_nodes, sx, sy, center, Gc, comm_path_nodes\n",
    "\n",
    "        # Otherwise shrink spacing to pull neighbors closer and try again\n",
    "        sx *= shrink\n",
    "        sy *= shrink\n",
    "\n",
    "    # Fall back: return the last attempt even if no path\n",
    "    comm_path_nodes = []\n",
    "    return drones_xy, start_nodes, sx, sy, center, Gc, comm_path_nodes"
   ]
  },
  {
   "cell_type": "markdown",
   "metadata": {},
   "source": [
    "EXPORTS (FILES)<br>\n",
    "Export roadmap nodes/edges as GeoJSON."
   ]
  },
  {
   "cell_type": "code",
   "execution_count": 28,
   "metadata": {},
   "outputs": [],
   "source": [
    "def export_graph_geojson(G: nx.Graph, crs, out_nodes: str, out_edges: str):\n",
    "    node_rows = [{\"id\": n, \"geometry\": Point(d[\"x\"], d[\"y\"])} for n, d in G.nodes(data=True)]\n",
    "    gpd.GeoDataFrame(node_rows, geometry=\"geometry\", crs=crs).to_file(out_nodes, driver=\"GeoJSON\")\n",
    "    edges = []\n",
    "    for u, v, d in G.edges(data=True):\n",
    "        p1 = Point(G.nodes[u][\"x\"], G.nodes[u][\"y\"])\n",
    "        p2 = Point(G.nodes[v][\"x\"], G.nodes[v][\"y\"])\n",
    "        edges.append({\"u\": u, \"v\": v, \"weight\": d.get(\"weight\", 0.0), \"geometry\": LineString([p1, p2])})\n",
    "    gpd.GeoDataFrame(edges, geometry=\"geometry\", crs=crs).to_file(out_edges, driver=\"GeoJSON\")"
   ]
  },
  {
   "cell_type": "markdown",
   "metadata": {},
   "source": [
    "Export communication edges as GeoJSON using drone XYs."
   ]
  },
  {
   "cell_type": "code",
   "execution_count": 29,
   "metadata": {},
   "outputs": [],
   "source": [
    "def export_comm_edges(xy: List[Tuple[float, float]], Gc: nx.Graph, crs, out_path: str):\n",
    "    rows = []\n",
    "    for u, v in Gc.edges():\n",
    "        p1 = Point(xy[u][0], xy[u][1])\n",
    "        p2 = Point(xy[v][0], xy[v][1])\n",
    "        rows.append({\"u\": int(u + 1), \"v\": int(v + 1), \"geometry\": LineString([p1, p2])})\n",
    "    gpd.GeoDataFrame(rows, geometry=\"geometry\", crs=crs).to_file(out_path, driver=\"GeoJSON\")"
   ]
  },
  {
   "cell_type": "markdown",
   "metadata": {},
   "source": [
    "Export an ordered coordinate list as a single LineString GeoJSON with hop count."
   ]
  },
  {
   "cell_type": "code",
   "execution_count": 30,
   "metadata": {},
   "outputs": [],
   "source": [
    "def export_path_as_line(coords: List[Tuple[float, float]], crs, out_path: str, props: Optional[Dict] = None):\n",
    "    if props is None:\n",
    "        props = {}\n",
    "    props = {**props, \"hop_count\": max(0, len(coords) - 1)}\n",
    "    gdf = gpd.GeoDataFrame(\n",
    "        [{**props, \"geometry\": LineString([Point(x, y) for x, y in coords])}],\n",
    "        geometry=\"geometry\",\n",
    "        crs=crs,\n",
    "    )\n",
    "    gdf.to_file(out_path, driver=\"GeoJSON\")"
   ]
  },
  {
   "cell_type": "markdown",
   "metadata": {},
   "source": [
    "Bundle all outputs into a single GeoPackage for convenience."
   ]
  },
  {
   "cell_type": "code",
   "execution_count": 31,
   "metadata": {},
   "outputs": [],
   "source": [
    "def export_geopackage(\n",
    "    buildings,\n",
    "    roads,\n",
    "    G_space,\n",
    "    drones_xy,\n",
    "    comm_graph,\n",
    "    ox_path_coords,\n",
    "    comm_path_coords,\n",
    "    free_path_coords,\n",
    "    pts_crs,\n",
    "    out_path\n",
    "):\n",
    "    print(f\"Creating GeoPackage: {out_path}\")\n",
    "\n",
    "    # Buildings\n",
    "    b = buildings[[\"h_m\", \"geometry\"]].copy()\n",
    "    b.to_file(out_path, layer=\"buildings\", driver=\"GPKG\")\n",
    "\n",
    "    # Roads\n",
    "    roads[[\"geometry\"]].copy().to_file(out_path, layer=\"roads\", driver=\"GPKG\")\n",
    "\n",
    "    # Roadmap nodes/edges\n",
    "    node_rows = [{\"id\": n, \"geometry\": Point(d[\"x\"], d[\"y\"])} for n, d in G_space.nodes(data=True)]\n",
    "    gpd.GeoDataFrame(node_rows, geometry=\"geometry\", crs=pts_crs).to_file(out_path, layer=\"roadmap_nodes\", driver=\"GPKG\")\n",
    "    edge_rows = []\n",
    "    for u, v, d in G_space.edges(data=True):\n",
    "        p1 = Point(G_space.nodes[u][\"x\"], G_space.nodes[u][\"y\"])\n",
    "        p2 = Point(G_space.nodes[v][\"x\"], G_space.nodes[v][\"y\"])\n",
    "        edge_rows.append({\"u\": u, \"v\": v, \"weight\": d.get(\"weight\", 0.0), \"geometry\": LineString([p1, p2])})\n",
    "    gpd.GeoDataFrame(edge_rows, geometry=\"geometry\", crs=pts_crs).to_file(out_path, layer=\"roadmap_edges\", driver=\"GPKG\")\n",
    "\n",
    "    # Drone points (stationary) + comm edges\n",
    "    pts_rows = [{\"drone_id\": i + 1, \"geometry\": Point(x, y)} for i, (x, y) in enumerate(drones_xy)]\n",
    "    gpd.GeoDataFrame(pts_rows, geometry=\"geometry\", crs=pts_crs).to_file(out_path, layer=\"drone_points\", driver=\"GPKG\")\n",
    "    comm_rows = []\n",
    "    for u, v in comm_graph.edges():\n",
    "        comm_rows.append({\n",
    "            \"u\": u + 1,\n",
    "            \"v\": v + 1,\n",
    "            \"geometry\": LineString([Point(*drones_xy[u]), Point(*drones_xy[v])])\n",
    "        })\n",
    "    gpd.GeoDataFrame(comm_rows, geometry=\"geometry\", crs=pts_crs).to_file(out_path, layer=\"comm_edges\", driver=\"GPKG\")\n",
    "\n",
    "    # Paths (optional layers)\n",
    "    if ox_path_coords is not None:\n",
    "        gpd.GeoDataFrame(\n",
    "            [{\"geometry\": LineString([Point(x, y) for x, y in ox_path_coords])}],\n",
    "            geometry=\"geometry\",\n",
    "            crs=pts_crs\n",
    "        ).to_file(out_path, layer=\"ox_shortest_path\", driver=\"GPKG\")\n",
    "    if comm_path_coords is not None:\n",
    "        gpd.GeoDataFrame(\n",
    "            [{\"geometry\": LineString([Point(x, y) for x, y in comm_path_coords])}],\n",
    "            geometry=\"geometry\",\n",
    "            crs=pts_crs\n",
    "        ).to_file(out_path, layer=\"comm_shortest_path\", driver=\"GPKG\")\n",
    "    if free_path_coords is not None:\n",
    "        gpd.GeoDataFrame(\n",
    "            [{\"geometry\": LineString([Point(x, y) for x, y in free_path_coords])}],\n",
    "            geometry=\"geometry\",\n",
    "            crs=pts_crs\n",
    "        ).to_file(out_path, layer=\"free_shortest_path\", driver=\"GPKG\")\n",
    "    print(\"GeoPackage export complete.\")"
   ]
  },
  {
   "cell_type": "markdown",
   "metadata": {},
   "source": [
    "COMM PATH CSV HELPERS <br>\n",
    "Global caches filled in main() so convenience functions can take only drone IDs."
   ]
  },
  {
   "cell_type": "code",
   "execution_count": 32,
   "metadata": {},
   "outputs": [],
   "source": [
    "LAST_GC: Optional[nx.Graph] = None\n",
    "LAST_DRONES_XY: Optional[List[Tuple[float, float]]] = None"
   ]
  },
  {
   "cell_type": "markdown",
   "metadata": {},
   "source": [
    "Write a path (list of node IDs) to CSV with coordinates and hop count."
   ]
  },
  {
   "cell_type": "code",
   "execution_count": 33,
   "metadata": {},
   "outputs": [],
   "source": [
    "def _write_comm_path_csv(path_nodes: List[int], drones_xy: List[Tuple[float, float]], out_csv: str):\n",
    "    rows = []\n",
    "    for k, nid in enumerate(path_nodes):\n",
    "        x, y = drones_xy[nid]\n",
    "        rows.append({\"order\": k, \"drone_id\": int(nid), \"x\": float(x), \"y\": float(y)})\n",
    "    df = pd.DataFrame(rows)\n",
    "    df[\"hop_count\"] = max(0, len(path_nodes) - 1)\n",
    "    df.to_csv(out_csv, index=False)"
   ]
  },
  {
   "cell_type": "markdown",
   "metadata": {},
   "source": [
    "Compute the shortest-hop path on the communication graph Gc."
   ]
  },
  {
   "cell_type": "code",
   "execution_count": 34,
   "metadata": {},
   "outputs": [],
   "source": [
    "def comm_shortest_path_to_csv(\n",
    "    Gc: nx.Graph,\n",
    "    drones_xy: List[Tuple[float, float]],\n",
    "    src_id_1: int,               # 1-based\n",
    "    dst_id_1: int,               # 1-based\n",
    "    out_csv: str,\n",
    "    *,\n",
    "    prefer_multihop: bool = True,\n",
    "    gpkg_path: Optional[str] = None,\n",
    "    gpkg_layer: str = \"comm_shortest_path\",\n",
    "    crs=None\n",
    ") -> List[int]:\n",
    "    \"\"\"\n",
    "    If Gc has no edges, or no path exists, write an empty CSV and DO NOT write a layer.\n",
    "    IDs are 1-based on input/output. Optionally writes a line to GPKG.\n",
    "    \"\"\"\n",
    "    n = len(drones_xy)\n",
    "    if not (1 <= src_id_1 <= n and 1 <= dst_id_1 <= n):\n",
    "        raise ValueError(f\"Drone IDs must be in [1, {n}]. Got {src_id_1}, {dst_id_1}.\")\n",
    "    s0, d0 = src_id_1 - 1, dst_id_1 - 1  # 0-based\n",
    "\n",
    "    # If comm graph has NO edges, never produce a path\n",
    "    if Gc.number_of_edges() == 0:\n",
    "        pd.DataFrame([], columns=[\"order\", \"drone_id\", \"x\", \"y\", \"hop_count\"]).to_csv(out_csv, index=False)\n",
    "        print(\"[INFO] comm_edges is empty; no comm path written.\")\n",
    "        return []\n",
    "\n",
    "    # Trivial case\n",
    "    if s0 == d0:\n",
    "        x, y = drones_xy[s0]\n",
    "        pd.DataFrame([{\"order\": 0, \"drone_id\": src_id_1, \"x\": float(x), \"y\": float(y), \"hop_count\": 0}]).to_csv(out_csv, index=False)\n",
    "        if gpkg_path and crs is not None:\n",
    "            gpd.GeoDataFrame(\n",
    "                [{\"src_id\": src_id_1, \"dst_id\": dst_id_1, \"hop_count\": 0,\n",
    "                  \"geometry\": LineString([Point(x, y), Point(x, y)])}],\n",
    "                geometry=\"geometry\", crs=crs\n",
    "            ).to_file(gpkg_path, layer=gpkg_layer, driver=\"GPKG\")\n",
    "        return [src_id_1]\n",
    "\n",
    "    # Must be connected in Gc\n",
    "    if not nx.has_path(Gc, s0, d0):\n",
    "        pd.DataFrame([], columns=[\"order\", \"drone_id\", \"x\", \"y\", \"hop_count\"]).to_csv(out_csv, index=False)\n",
    "        print(f\"[INFO] No comm path in Gc between {src_id_1} and {dst_id_1}.\")\n",
    "        return []\n",
    "\n",
    "    # Prefer multi-hop if a direct link exists (work on a copy)\n",
    "    Guse = Gc\n",
    "    if prefer_multihop and Gc.has_edge(s0, d0):\n",
    "        Gtmp = Gc.copy()\n",
    "        Gtmp.remove_edge(s0, d0)\n",
    "        if nx.has_path(Gtmp, s0, d0):\n",
    "            Guse = Gtmp\n",
    "\n",
    "    # Shortest-hop path strictly on comm edges\n",
    "    path0 = nx.shortest_path(Guse, s0, d0)\n",
    "\n",
    "    # Validate: every hop is an edge in the ORIGINAL comm graph\n",
    "    for u, v in zip(path0[:-1], path0[1:]):\n",
    "        if not Gc.has_edge(u, v):\n",
    "            raise ValueError(f\"Path step {(u + 1)}->{(v + 1)} is not present in comm_edges.\")\n",
    "\n",
    "    # Write CSV (1-based IDs)\n",
    "    path1 = [p + 1 for p in path0]\n",
    "    rows = []\n",
    "    for k, nid1 in enumerate(path1):\n",
    "        x, y = drones_xy[nid1 - 1]\n",
    "        rows.append({\"order\": k, \"drone_id\": nid1, \"x\": float(x), \"y\": float(y)})\n",
    "    df = pd.DataFrame(rows)\n",
    "    df[\"hop_count\"] = len(path1) - 1\n",
    "    df.to_csv(out_csv, index=False)\n",
    "\n",
    "    # Optional: write line into GPKG\n",
    "    if gpkg_path and crs is not None:\n",
    "        line = LineString([Point(*drones_xy[i]) for i in path0])\n",
    "        gpd.GeoDataFrame(\n",
    "            [{\"src_id\": src_id_1, \"dst_id\": dst_id_1, \"hop_count\": len(path1) - 1, \"geometry\": line}],\n",
    "            geometry=\"geometry\",\n",
    "            crs=crs\n",
    "        ).to_file(gpkg_path, layer=gpkg_layer, driver=\"GPKG\")\n",
    "    print(f\"[OK] Saved comm path ({len(path1) - 1} hops) {src_id_1}->{dst_id_1} to {out_csv}\")\n",
    "    return path1"
   ]
  },
  {
   "cell_type": "markdown",
   "metadata": {},
   "source": [
    "MAIN br>\n",
    "Orchestrates: load data -> build roadmap -> place grid -> comm graph -> exports."
   ]
  },
  {
   "cell_type": "code",
   "execution_count": null,
   "metadata": {},
   "outputs": [],
   "source": [
    "def main():\n",
    "    ensure_dirs()\n",
    "    print(\"Loading OSM layers…\")\n",
    "    buildings, roads = load_osm_layers(OSM_PATH, CRS_METRIC)\n",
    "    print(\"Preparing buildings & occluders…\")\n",
    "    buildings, occluders, occ_tree = prepare_buildings(buildings, ALTITUDE_M)\n",
    "    print(\"Building centerlines & sampling roadmap…\")\n",
    "    lines = roads_to_centerlines(roads)\n",
    "    pts = sample_lines(lines, SAMPLE_EVERY_M)\n",
    "\n",
    "    # k-NN roadmap, then prune any parts inside / crossing buildings\n",
    "    G_space = build_roadmap(pts, k_nn=6)\n",
    "    G_space = prune_nodes_over_tall_buildings(G_space, pts, buildings, ALTITUDE_M)\n",
    "    G_space = prune_nodes_over_any_buildings(G_space, buildings)   # ensure free-space nodes\n",
    "    G_space = prune_edges_crossing_buildings(G_space, buildings)   # ensure free-space edges\n",
    "    print(f\"Roadmap nodes: {G_space.number_of_nodes()}, edges: {G_space.number_of_edges()}\")\n",
    "\n",
    "    # ---- Stationary WIDE GRID placement ----\n",
    "    print(\"Placing WIDE stationary grid…\")\n",
    "    (xmin, ymin, xmax, ymax), center_bbox = bbox_and_center_from_graph(G_space)\n",
    "    center = GRID_CENTER_XY if GRID_CENTER_XY is not None else center_bbox\n",
    "    if AUTO_WIDE_GRID:\n",
    "        sx, sy = compute_grid_spacing(\n",
    "            xmin, ymin, xmax, ymax,\n",
    "            GRID_ROWS, GRID_COLS,\n",
    "            GRID_COVERAGE, MIN_GRID_SPACING_M, STRETCH_ASPECT\n",
    "        )\n",
    "    else:\n",
    "        sx = sy = GRID_SPACING_M\n",
    "\n",
    "    # Clamp to comm range so neighbors can link (facilitates multi-hop chains)\n",
    "    sx = min(sx, COMM_RANGE_M * 0.95)\n",
    "    sy = min(sy, COMM_RANGE_M * 0.95)\n",
    "\n",
    "    # Ensure farthest pair is multi-hop reachable if requested\n",
    "    if ENSURE_MULTIHOP:\n",
    "        drones_xy, start_nodes, sx, sy, center, Gc, comm_path_nodes = try_build_multihop_grid(\n",
    "            G_space, buildings, occ_tree, occluders,\n",
    "            COMM_RANGE_M, GRID_ROWS, GRID_COLS, center, sx, sy\n",
    "        )\n",
    "    else:\n",
    "        targets_xy = make_grid_points(center, GRID_ROWS, GRID_COLS, sx, sy)\n",
    "        start_nodes = snap_unique_nodes_free(G_space, targets_xy, buildings)\n",
    "        drones_xy = [(G_space.nodes[n][\"x\"], G_space.nodes[n][\"y\"]) for n in start_nodes]\n",
    "        Gc = comm_graph_from_positions(drones_xy, occ_tree, occluders, COMM_RANGE_M)\n",
    "        comm_path_nodes = []\n",
    "\n",
    "    # Cache for convenience wrappers (optional)\n",
    "    global LAST_GC, LAST_DRONES_XY\n",
    "    LAST_GC = Gc\n",
    "    LAST_DRONES_XY = drones_xy\n",
    "\n",
    "    # ------------ SELECTED PAIR (1-based) ------------\n",
    "    parser = argparse.ArgumentParser(description=\"Export comm shortest path between two drones by 1-based ID\")\n",
    "    parser.add_argument(\"--src-id\", type=int, required=True)\n",
    "    parser.add_argument(\"--dst-id\", type=int, required=True)\n",
    "    parser.add_argument(\"--no-multihop\", action=\"store_true\", help=\"Do not prefer multi-hop when a direct link exists\")\n",
    "    args = parser.parse_args()\n",
    "    src_id = int(args.src_id)    # 1-based\n",
    "    dst_id = int(args.dst_id)    # 1-based\n",
    "    prefer_multihop = True and (not args.no_multihop)\n",
    "    n = len(drones_xy)\n",
    "    if not (1 <= src_id <= n and 1 <= dst_id <= n):\n",
    "        raise ValueError(f\"Drone IDs must be in [1,{n}], got src={src_id}, dst={dst_id}\")\n",
    "\n",
    "    # Communication path between chosen 1-based IDs -> CSV + (optional) GPKG layer\n",
    "    comm_csv = os.path.join(OUT_DIR, f\"comm_path_{src_id}_{dst_id}.csv\")\n",
    "    gpkg_path = os.path.join(OUT_DIR, \"geoai_stationary_wide.gpkg\")\n",
    "    path_ids_1 = comm_shortest_path_to_csv(\n",
    "        Gc, drones_xy, src_id, dst_id, comm_csv,\n",
    "        prefer_multihop=(not args.no_multihop),\n",
    "        gpkg_path=gpkg_path, gpkg_layer=\"comm_shortest_path\", crs=pts.crs\n",
    "    )\n",
    "    comm_path_coords = [drones_xy[i - 1] for i in path_ids_1] if path_ids_1 else None\n",
    "    if Gc.number_of_edges() == 0:\n",
    "        comm_path_coords = None\n",
    "\n",
    "    # Optional: OSMnx road path between the same 1-based IDs\n",
    "    ox_path_coords = None\n",
    "    G_ox = try_load_osmnx_graph(OSM_PATH)\n",
    "    if G_ox is not None:\n",
    "        try:\n",
    "            s0, d0 = src_id - 1, dst_id - 1\n",
    "            ni = ox.distance.nearest_nodes(G_ox, drones_xy[s0][0], drones_xy[s0][1])\n",
    "            nj = ox.distance.nearest_nodes(G_ox, drones_xy[d0][0], drones_xy[d0][1])\n",
    "            try:\n",
    "                sp_nodes = ox.graph.shortest_path(G_ox, ni, nj, weight=\"length\")\n",
    "            except AttributeError:\n",
    "                sp_nodes = ox.shortest_path(G_ox, ni, nj, weight=\"length\")\n",
    "            xs = [G_ox.nodes[n][\"x\"] for n in sp_nodes]\n",
    "            ys = [G_ox.nodes[n][\"y\"] for n in sp_nodes]\n",
    "            ox_path_coords = list(zip(xs, ys))\n",
    "        except Exception as e:\n",
    "            print(f\"[WARN] OSMnx shortest path failed: {e}\")\n",
    "    else:\n",
    "        print(\"[INFO] Skipping OSMnx shortest path (need .osm input).\")\n",
    "\n",
    "    # Optional: free-space roadmap path between the same IDs\n",
    "    free_path_coords = None\n",
    "    s_node = start_nodes[src_id - 1]\n",
    "    t_node = start_nodes[dst_id - 1]\n",
    "    try:\n",
    "        sp_nodes_free = nx.shortest_path(G_space, s_node, t_node, weight=\"weight\")\n",
    "        free_path_coords = [(G_space.nodes[n][\"x\"], G_space.nodes[n][\"y\"]) for n in sp_nodes_free]\n",
    "    except nx.NetworkXNoPath:\n",
    "        print(\"[INFO] No free-space path exists between selected pair (after pruning obstacles).\")\n",
    "\n",
    "    # ------------ EXPORTS ------------\n",
    "    print(\"Exporting layers…\")\n",
    "\n",
    "    # Optionally export comm shortest path as GeoJSON\n",
    "    if comm_path_coords is not None:\n",
    "        export_path_as_line(\n",
    "            comm_path_coords, pts.crs,\n",
    "            os.path.join(OUT_DIR, f\"comm_shortest_path_{src_id}_{dst_id}.geojson\"),\n",
    "            {\"type\": \"comm_path\", \"src_id\": src_id, \"dst_id\": dst_id}\n",
    "        )\n",
    "\n",
    "    # Bundle all layers into GPKG (includes the comm_shortest_path geometry)\n",
    "    export_geopackage(\n",
    "        buildings, roads, G_space, drones_xy, Gc,\n",
    "        ox_path_coords, comm_path_coords, free_path_coords,\n",
    "        pts.crs, os.path.join(OUT_DIR, \"geoai_stationary_wide.gpkg\")\n",
    "    )"
   ]
  },
  {
   "cell_type": "code",
   "execution_count": 46,
   "metadata": {},
   "outputs": [
    {
     "name": "stdout",
     "output_type": "stream",
     "text": [
      "Loading OSM layers…\n",
      "Preparing buildings & occluders…\n",
      "42.9\n",
      "49.5\n",
      "19.799999999999997\n",
      "13.2\n",
      "6.6\n",
      "13.2\n",
      "13.2\n",
      "16.5\n",
      "16.5\n",
      "9.899999999999999\n",
      "16.5\n",
      "3.3\n",
      "3.3\n",
      "16.5\n",
      "16.5\n",
      "16.5\n",
      "9.899999999999999\n",
      "13.2\n",
      "16.5\n",
      "9.899999999999999\n",
      "9.899999999999999\n",
      "13.2\n",
      "6.6\n",
      "6.6\n",
      "9.899999999999999\n",
      "9.899999999999999\n",
      "13.2\n",
      "13.2\n",
      "13.2\n",
      "62.699999999999996\n",
      "9.899999999999999\n",
      "9.899999999999999\n",
      "66.0\n",
      "13.2\n",
      "33.0\n",
      "13.2\n",
      "9.899999999999999\n",
      "52.8\n",
      "62.699999999999996\n",
      "9.899999999999999\n",
      "9.899999999999999\n",
      "66.0\n",
      "6.6\n",
      "52.8\n",
      "66.0\n",
      "9.899999999999999\n",
      "66.0\n",
      "Building centerlines & sampling roadmap…\n",
      "Roadmap nodes: 2235, edges: 6550\n",
      "[OK] Saved comm path (5 hops) 1->4 to out/comm_path_1_4.csv\n",
      "Exporting layers…\n",
      "Creating GeoPackage: out/geoai_stationary_wide.gpkg\n",
      "GeoPackage export complete.\n"
     ]
    }
   ],
   "source": [
    "if __name__ == \"__main__\":\n",
    "    main(1,4) ## Drone SRC to Drone End"
   ]
  }
 ],
 "metadata": {
  "kernelspec": {
   "display_name": ".venv",
   "language": "python",
   "name": "python3"
  },
  "language_info": {
   "codemirror_mode": {
    "name": "ipython",
    "version": 3
   },
   "file_extension": ".py",
   "mimetype": "text/x-python",
   "name": "python",
   "nbconvert_exporter": "python",
   "pygments_lexer": "ipython3",
   "version": "3.12.3"
  }
 },
 "nbformat": 4,
 "nbformat_minor": 2
}
